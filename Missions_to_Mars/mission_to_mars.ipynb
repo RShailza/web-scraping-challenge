{
 "cells": [
  {
   "cell_type": "code",
   "execution_count": 9,
   "id": "f9d4cdd0",
   "metadata": {},
   "outputs": [
    {
     "name": "stdout",
     "output_type": "stream",
     "text": [
      "<!DOCTYPE html>\n",
      "<html>\n",
      " <head>\n",
      "  <meta charset=\"utf-8\"/>\n",
      "  <meta content=\"width=device-width, initial-scale=1\" name=\"viewport\"/>\n",
      "  <link crossorigin=\"anonymous\" href=\"https://cdn.jsdelivr.net/npm/bootstrap@5.0.0-beta1/dist/css/bootstrap.min.css\" integrity=\"sha384-giJF6kkoqNQ00vy+HMDP7azOuL0xtbfIcaT9wjKHr8RbDVddVHyTfAAsrekwKmP1\" rel=\"stylesheet\"/>\n",
      "  <link href=\"css/font.css\" rel=\"stylesheet\" type=\"text/css\"/>\n",
      "  <link href=\"css/app.css\" rel=\"stylesheet\" type=\"text/css\"/>\n",
      "  <link crossorigin=\"anonymous\" href=\"https://pro.fontawesome.com/releases/v5.10.0/css/all.css\" integrity=\"sha384-AYmEC3Yw5cVb3ZcuHtOA93w35dYTsvhLPVnYs9eStHfGJvOvKxVfELGroGkvsg+p\" rel=\"stylesheet\">\n",
      "   <title>\n",
      "    News - Mars Exploration Program\n",
      "   </title>\n",
      "  </link>\n",
      " </head>\n",
      " <body>\n",
      "  <div class=\"col-md-12\">\n",
      "   <div class=\"row\">\n",
      "    <nav class=\"navbar navbar-expand-lg navbar-light fixed-top\">\n",
      "     <div class=\"container-fluid\">\n",
      "      <a class=\"navbar-brand\" href=\"#\">\n",
      "       <img src=\"image/nasa.png\" width=\"80\"/>\n",
      "       <span class=\"logo\">\n",
      "        MARS Planet Science\n",
      "       </span>\n",
      "       <span class=\"logo1\">\n",
      "        Exploration Program\n",
      "       </span>\n",
      "      </a>\n",
      "      <button aria-controls=\"navbarNav\" aria-expanded=\"false\" aria-label=\"Toggle navigation\" class=\"navbar-toggler\" data-bs-target=\"#navbarNav\" data-bs-toggle=\"collapse\" type=\"button\">\n",
      "       <span class=\"navbar-toggler-icon\">\n",
      "       </span>\n",
      "      </button>\n",
      "      <div class=\"collapse navbar-collapse justify-content-end\" id=\"navbarNav\">\n",
      "       <ul class=\"navbar-nav\">\n",
      "        <li class=\"nav-item\">\n",
      "         <a aria-current=\"page\" class=\"nav-link active\" href=\"#\">\n",
      "          The Red Planet\n",
      "         </a>\n",
      "        </li>\n",
      "        <li class=\"nav-item\">\n",
      "         <a class=\"nav-link\" href=\"#\">\n",
      "          The Program\n",
      "         </a>\n",
      "        </li>\n",
      "        <li class=\"nav-item\">\n",
      "         <a class=\"nav-link\" href=\"#\">\n",
      "          News &amp; Events\n",
      "         </a>\n",
      "        </li>\n",
      "        <li class=\"nav-item\">\n",
      "         <a class=\"nav-link\" href=\"#\">\n",
      "          Multimedia\n",
      "         </a>\n",
      "        </li>\n",
      "        <li class=\"nav-item\">\n",
      "         <a class=\"nav-link\" href=\"#\">\n",
      "          Missions\n",
      "         </a>\n",
      "        </li>\n",
      "        <li class=\"nav-item\">\n",
      "         <a class=\"nav-link\" href=\"#\">\n",
      "          More\n",
      "         </a>\n",
      "        </li>\n",
      "        <li class=\"nav-item nav_search\">\n",
      "         <a class=\"nav-link\" href=\"#\">\n",
      "         </a>\n",
      "        </li>\n",
      "       </ul>\n",
      "      </div>\n",
      "     </div>\n",
      "    </nav>\n",
      "    <section class=\"search\">\n",
      "     <div class=\"container\">\n",
      "      <h1>\n",
      "       News\n",
      "      </h1>\n",
      "      <div class=\"col-md-12 filter\">\n",
      "       <div class=\"row\">\n",
      "        <div class=\"col-md-3 search_binder\">\n",
      "         <input class=\"search_field\" name=\"search\" type=\"text\"/>\n",
      "         <input class=\"search_submit\" name=\"search\" type=\"text\"/>\n",
      "        </div>\n",
      "        <div class=\"col-md-3\">\n",
      "         <select aria-label=\"Default select example\" class=\"form-select\" id=\"year\">\n",
      "          <option selected=\"\">\n",
      "           Latest\n",
      "          </option>\n",
      "         </select>\n",
      "        </div>\n",
      "        <div class=\"col-md-3\">\n",
      "         <select aria-label=\"Default select example\" class=\"form-select\" id=\"cat\">\n",
      "          <option selected=\"\">\n",
      "           All Categories\n",
      "          </option>\n",
      "         </select>\n",
      "        </div>\n",
      "        <div class=\"col-md-3\">\n",
      "        </div>\n",
      "       </div>\n",
      "      </div>\n",
      "     </div>\n",
      "    </section>\n",
      "    <section class=\"image_and_description_container\">\n",
      "     <div class=\"container\" id=\"news\">\n",
      "     </div>\n",
      "     <hr class=\"container\" style=\"margin: 25px auto;width: 83%;\"/>\n",
      "     <button class=\"btn disable\" id=\"more\" onclick=\"populateContent()\">\n",
      "      More\n",
      "     </button>\n",
      "    </section>\n",
      "    <section class=\"last_news\">\n",
      "     <div class=\"container\">\n",
      "      <div class=\"row\">\n",
      "       <div class=\"col-12\">\n",
      "        <h2>\n",
      "         You Might Also Like\n",
      "        </h2>\n",
      "       </div>\n",
      "       <!--  <a class=\" prev\" href=\"#carouselExampleIndicators2\" role=\"button\" data-slide=\"prev\">\r\n",
      "                  <i class=\"fas fa-angle-left\"></i>\r\n",
      "                  </a>\r\n",
      "                  <a class=\" next\" href=\"#carouselExampleIndicators2\" role=\"button\" data-slide=\"next\">\r\n",
      "                  <i class=\"fas fa-angle-right\"></i>\r\n",
      "                  </a> -->\n",
      "       <div class=\"col-12\">\n",
      "        <div class=\"carousel slide\" data-ride=\"carousel\" id=\"carouselExampleIndicators2\">\n",
      "         <div class=\"carousel-inner\">\n",
      "          <div class=\"carousel-item active\">\n",
      "           <div class=\"row\">\n",
      "            <div class=\"col-md-4 mb-3\">\n",
      "             <div class=\"card\">\n",
      "              <img alt=\"100%x280\" class=\"img-fluid\" src=\"https://mars.nasa.gov/system/news_items/main_images/8716_PIA23499-16.jpg\"/>\n",
      "              <div class=\"card-body\">\n",
      "               <p class=\"card-text\">\n",
      "                NASA to Broadcast Mars 2020 Perseverance Launch, Prelaunch Activities\n",
      "               </p>\n",
      "              </div>\n",
      "             </div>\n",
      "            </div>\n",
      "            <div class=\"col-md-4 mb-3\">\n",
      "             <div class=\"card\">\n",
      "              <img alt=\"100%x280\" class=\"img-fluid\" src=\"https://mars.nasa.gov/system/news_items/main_images/8716_PIA23499-16.jpg\"/>\n",
      "              <div class=\"card-body\">\n",
      "               <p class=\"card-text\">\n",
      "                The Launch Is Approaching for NASA's Next Mars Rover, Perseverance\n",
      "               </p>\n",
      "              </div>\n",
      "             </div>\n",
      "            </div>\n",
      "            <div class=\"col-md-4 mb-3\">\n",
      "             <div class=\"card\">\n",
      "              <img alt=\"100%x280\" class=\"img-fluid\" src=\"https://mars.nasa.gov/system/news_items/main_images/8692_PIA23920-web.jpg\"/>\n",
      "              <div class=\"card-body\">\n",
      "               <p class=\"card-text\">\n",
      "                NASA to Hold Mars 2020 Perseverance Rover Launch Briefing\n",
      "               </p>\n",
      "              </div>\n",
      "             </div>\n",
      "            </div>\n",
      "           </div>\n",
      "          </div>\n",
      "          <div class=\"carousel-item\">\n",
      "           <div class=\"row\">\n",
      "            <div class=\"col-md-4 mb-3\">\n",
      "             <div class=\"card\">\n",
      "              <img alt=\"100%x280\" class=\"img-fluid\" src=\"https://images.unsplash.com/photo-1532771098148-525cefe10c23?ixlib=rb-0.3.5&amp;q=80&amp;fm=jpg&amp;crop=entropy&amp;cs=tinysrgb&amp;w=1080&amp;fit=max&amp;ixid=eyJhcHBfaWQiOjMyMDc0fQ&amp;s=3f317c1f7a16116dec454fbc267dd8e4\"/>\n",
      "              <div class=\"card-body\">\n",
      "               <p class=\"card-text\">\n",
      "                With supporting text below as a natural lead-in to additional content.\n",
      "               </p>\n",
      "              </div>\n",
      "             </div>\n",
      "            </div>\n",
      "            <div class=\"col-md-4 mb-3\">\n",
      "             <div class=\"card\">\n",
      "              <img alt=\"100%x280\" class=\"img-fluid\" src=\"https://images.unsplash.com/photo-1532715088550-62f09305f765?ixlib=rb-0.3.5&amp;q=80&amp;fm=jpg&amp;crop=entropy&amp;cs=tinysrgb&amp;w=1080&amp;fit=max&amp;ixid=eyJhcHBfaWQiOjMyMDc0fQ&amp;s=ebadb044b374504ef8e81bdec4d0e840\"/>\n",
      "              <div class=\"card-body\">\n",
      "               <p class=\"card-text\">\n",
      "                With supporting text below as a natural lead-in to additional content.\n",
      "               </p>\n",
      "              </div>\n",
      "             </div>\n",
      "            </div>\n",
      "            <div class=\"col-md-4 mb-3\">\n",
      "             <div class=\"card\">\n",
      "              <img alt=\"100%x280\" class=\"img-fluid\" src=\"https://images.unsplash.com/photo-1506197603052-3cc9c3a201bd?ixlib=rb-0.3.5&amp;q=80&amp;fm=jpg&amp;crop=entropy&amp;cs=tinysrgb&amp;w=1080&amp;fit=max&amp;ixid=eyJhcHBfaWQiOjMyMDc0fQ&amp;s=0754ab085804ae8a3b562548e6b4aa2e\"/>\n",
      "              <div class=\"card-body\">\n",
      "               <p class=\"card-text\">\n",
      "                With supporting text below as a natural lead-in to additional content.\n",
      "               </p>\n",
      "              </div>\n",
      "             </div>\n",
      "            </div>\n",
      "           </div>\n",
      "          </div>\n",
      "          <div class=\"carousel-item\">\n",
      "           <div class=\"row\">\n",
      "            <div class=\"col-md-4 mb-3\">\n",
      "             <div class=\"card\">\n",
      "              <img alt=\"100%x280\" class=\"img-fluid\" src=\"https://images.unsplash.com/photo-1507525428034-b723cf961d3e?ixlib=rb-0.3.5&amp;q=80&amp;fm=jpg&amp;crop=entropy&amp;cs=tinysrgb&amp;w=1080&amp;fit=max&amp;ixid=eyJhcHBfaWQiOjMyMDc0fQ&amp;s=ee8417f0ea2a50d53a12665820b54e23\"/>\n",
      "              <div class=\"card-body\">\n",
      "               <p class=\"card-text\">\n",
      "                With supporting text below as a natural lead-in to additional content.\n",
      "               </p>\n",
      "              </div>\n",
      "             </div>\n",
      "            </div>\n",
      "            <div class=\"col-md-4 mb-3\">\n",
      "             <div class=\"card\">\n",
      "              <img alt=\"100%x280\" class=\"img-fluid\" src=\"https://images.unsplash.com/photo-1532777946373-b6783242f211?ixlib=rb-0.3.5&amp;q=80&amp;fm=jpg&amp;crop=entropy&amp;cs=tinysrgb&amp;w=1080&amp;fit=max&amp;ixid=eyJhcHBfaWQiOjMyMDc0fQ&amp;s=8ac55cf3a68785643998730839663129\"/>\n",
      "              <div class=\"card-body\">\n",
      "               <p class=\"card-text\">\n",
      "                With supporting text below as a natural lead-in to additional content.\n",
      "               </p>\n",
      "              </div>\n",
      "             </div>\n",
      "            </div>\n",
      "            <div class=\"col-md-4 mb-3\">\n",
      "             <div class=\"card\">\n",
      "              <img alt=\"100%x280\" class=\"img-fluid\" src=\"https://images.unsplash.com/photo-1532763303805-529d595877c5?ixlib=rb-0.3.5&amp;q=80&amp;fm=jpg&amp;crop=entropy&amp;cs=tinysrgb&amp;w=1080&amp;fit=max&amp;ixid=eyJhcHBfaWQiOjMyMDc0fQ&amp;s=5ee4fd5d19b40f93eadb21871757eda6\"/>\n",
      "              <div class=\"card-body\">\n",
      "               <p class=\"card-text\">\n",
      "                With supporting text below as a natural lead-in to additional content.\n",
      "               </p>\n",
      "              </div>\n",
      "             </div>\n",
      "            </div>\n",
      "           </div>\n",
      "          </div>\n",
      "         </div>\n",
      "        </div>\n",
      "       </div>\n",
      "      </div>\n",
      "     </div>\n",
      "    </section>\n",
      "    <section class=\"footer\">\n",
      "     <div class=\"container\">\n",
      "      <div class=\"col-md-12\">\n",
      "       <div class=\"row\">\n",
      "        <div class=\"col-md-3\">\n",
      "         <h5>\n",
      "          The Red Planet\n",
      "         </h5>\n",
      "         <ul>\n",
      "          <li>\n",
      "           Dashboard\n",
      "          </li>\n",
      "          <li>\n",
      "           Science Goals\n",
      "          </li>\n",
      "          <li>\n",
      "           The Planet\n",
      "          </li>\n",
      "         </ul>\n",
      "        </div>\n",
      "        <div class=\"col-md-3\">\n",
      "         <h5>\n",
      "          The Program\n",
      "         </h5>\n",
      "         <ul>\n",
      "          <li>\n",
      "           Mission Statement\n",
      "          </li>\n",
      "          <li>\n",
      "           About the Program\n",
      "          </li>\n",
      "          <li>\n",
      "           Organization Why Mars?\n",
      "          </li>\n",
      "         </ul>\n",
      "        </div>\n",
      "        <div class=\"col-md-3\">\n",
      "         <h5>\n",
      "          Multimedia\n",
      "         </h5>\n",
      "         <ul>\n",
      "          <li>\n",
      "           Images\n",
      "          </li>\n",
      "          <li>\n",
      "           Videos\n",
      "          </li>\n",
      "          <li>\n",
      "           More Resources\n",
      "          </li>\n",
      "         </ul>\n",
      "        </div>\n",
      "        <div class=\"col-md-3\">\n",
      "         <h5>\n",
      "          Missions\n",
      "         </h5>\n",
      "         <ul>\n",
      "          <li>\n",
      "           Past\n",
      "          </li>\n",
      "          <li>\n",
      "           Present\n",
      "          </li>\n",
      "          <li>\n",
      "           Future\n",
      "          </li>\n",
      "         </ul>\n",
      "        </div>\n",
      "       </div>\n",
      "      </div>\n",
      "     </div>\n",
      "    </section>\n",
      "    <script src=\"https://code.jquery.com/jquery-1.12.4.min.js\" type=\"text/javascript\">\n",
      "    </script>\n",
      "    <script src=\"https://cdn.jsdelivr.net/npm/@popperjs/core@2.5.4/dist/umd/popper.min.js\">\n",
      "    </script>\n",
      "    <script src=\"https://cdn.jsdelivr.net/npm/bootstrap@5.0.0-beta1/dist/js/bootstrap.min.js\">\n",
      "    </script>\n",
      "    <script src=\"js/app.js\">\n",
      "    </script>\n",
      "   </div>\n",
      "  </div>\n",
      " </body>\n",
      "</html>\n"
     ]
    }
   ],
   "source": [
    "# Import Dependencies\n",
    "\n",
    "from bs4 import BeautifulSoup\n",
    "import requests\n",
    "\n",
    "\n",
    "url = \"https://redplanetscience.com/\"\n",
    "response = requests.get(url)\n",
    "\n",
    "\n",
    "soup = BeautifulSoup(response.text, 'html.parser')\n",
    "print(soup.prettify()) "
   ]
  },
  {
   "cell_type": "code",
   "execution_count": 1,
   "id": "60d000d6",
   "metadata": {},
   "outputs": [
    {
     "name": "stdout",
     "output_type": "stream",
     "text": [
      "Requirement already satisfied: lxml in c:\\users\\shailza\\anaconda3\\lib\\site-packages (4.6.3)\n"
     ]
    }
   ],
   "source": [
    "!pip install lxml"
   ]
  },
  {
   "cell_type": "markdown",
   "id": "d4035c32",
   "metadata": {},
   "source": [
    "### NASA Mars News"
   ]
  },
  {
   "cell_type": "code",
   "execution_count": 10,
   "id": "315ad40d",
   "metadata": {},
   "outputs": [],
   "source": [
    "from splinter import Browser\n",
    "from bs4 import BeautifulSoup as soup\n",
    "import pandas as pd\n",
    "from webdriver_manager.chrome import ChromeDriverManager"
   ]
  },
  {
   "cell_type": "code",
   "execution_count": 11,
   "id": "f835b0d3",
   "metadata": {},
   "outputs": [
    {
     "name": "stderr",
     "output_type": "stream",
     "text": [
      "\n",
      "\n",
      "====== WebDriver manager ======\n",
      "Current google-chrome version is 94.0.4606\n",
      "Get LATEST driver version for 94.0.4606\n",
      "Driver [C:\\Users\\Shailza\\.wdm\\drivers\\chromedriver\\win32\\94.0.4606.61\\chromedriver.exe] found in cache\n"
     ]
    }
   ],
   "source": [
    "executable_path = {'executable_path': ChromeDriverManager().install()}\n",
    "browser = Browser('chrome', **executable_path, headless=False)\n",
    "\n",
    "url = 'https://redplanetscience.com/'\n",
    "browser.visit(url)\n",
    "\n"
   ]
  },
  {
   "cell_type": "code",
   "execution_count": 12,
   "id": "4c99fc75",
   "metadata": {},
   "outputs": [
    {
     "data": {
      "text/plain": [
       "True"
      ]
     },
     "execution_count": 12,
     "metadata": {},
     "output_type": "execute_result"
    }
   ],
   "source": [
    "browser.is_element_present_by_css('div.list_text', wait_time=1)"
   ]
  },
  {
   "cell_type": "code",
   "execution_count": 13,
   "id": "a05c4251",
   "metadata": {},
   "outputs": [],
   "source": [
    "# for x in range(50):\n",
    "#     html = browser.html\n",
    "#     soup = BeautifulSoup(html, 'html.parser')   \n",
    "#     articles = soup.find_all('article', class_='product_pod')\\    \n",
    "#     for article in articles: \n",
    "#         h3 = article.find(\"h3\")\n",
    "#         link = h3.find(\"a\")\n",
    "#         href = link[\"href\"]\n",
    "#         title = link[\"title\"]\n",
    "#         print(\"----------\")\n",
    "#         print(title)\n",
    "#         url = \"http://books.toscrape.com/\" + href\n",
    "#         browser.visit(url)        \n",
    "    \n",
    "#     try: \n",
    "#         browser.links.find_by_partial_text(\"next\").click()\n",
    "#     except:\n",
    "#         print(\"Scraping Complete\")"
   ]
  },
  {
   "cell_type": "code",
   "execution_count": 18,
   "id": "2ff9292d",
   "metadata": {},
   "outputs": [
    {
     "data": {
      "text/plain": [
       "<div class=\"content_title\">NASA's MAVEN Explores Mars to Understand Radio Interference at Earth</div>"
      ]
     },
     "execution_count": 18,
     "metadata": {},
     "output_type": "execute_result"
    }
   ],
   "source": [
    "#exploring the website\n",
    "\n",
    "html = browser.html\n",
    "news_soup = soup(html, 'html.parser')\n",
    "\n",
    "scroll = news_soup.select_one(\"div.list_text\")\n",
    "\n",
    "scroll.find('div', class_='content_title')\n"
   ]
  },
  {
   "cell_type": "code",
   "execution_count": 19,
   "id": "f5b551c4",
   "metadata": {},
   "outputs": [
    {
     "data": {
      "text/plain": [
       "\"NASA's MAVEN Explores Mars to Understand Radio Interference at Earth\""
      ]
     },
     "execution_count": 19,
     "metadata": {},
     "output_type": "execute_result"
    }
   ],
   "source": [
    "news_title = scroll.find('div', class_='content_title').get_text()\n",
    "news_title"
   ]
  },
  {
   "cell_type": "code",
   "execution_count": 20,
   "id": "63508941",
   "metadata": {},
   "outputs": [
    {
     "data": {
      "text/plain": [
       "'NASA’s MAVEN spacecraft has discovered “layers” and “rifts” in the electrically charged part of the upper atmosphere of Mars.'"
      ]
     },
     "execution_count": 20,
     "metadata": {},
     "output_type": "execute_result"
    }
   ],
   "source": [
    "news_para = scroll.find('div', class_='article_teaser_body').get_text()\n",
    "news_para"
   ]
  },
  {
   "cell_type": "code",
   "execution_count": 26,
   "id": "b1b087b5",
   "metadata": {},
   "outputs": [],
   "source": [
    "# Add try/except for error handling\n",
    "# try:\n",
    "#     scroll = news_soup.select_one('div.list_text')\n",
    "#     # Use the parent element to find the first 'a' tag and save it as 'news_title'\n",
    "#     news_title = slide_elem.find(\"div\", class_=\"content_title\").get_text()\n",
    "#     # Use the parent element to find the paragraph text\n",
    "#     news_para = slide_elem.find(\"div\", class_=\"article_teaser_body\").get_text()\n",
    "\n",
    "# except AttributeError:\n",
    "#     return None, None\n",
    "\n",
    "#return news_title, news_para\n"
   ]
  },
  {
   "cell_type": "markdown",
   "id": "b61d4c64",
   "metadata": {},
   "source": [
    "### JPL Mars Space Images - Featured Image"
   ]
  },
  {
   "cell_type": "code",
   "execution_count": 28,
   "id": "9a4c8c50",
   "metadata": {},
   "outputs": [],
   "source": [
    "url = 'https://spaceimages-mars.com/'\n",
    "browser.visit(url)\n"
   ]
  },
  {
   "cell_type": "code",
   "execution_count": 29,
   "id": "d0906330",
   "metadata": {},
   "outputs": [],
   "source": [
    "# Find and click the full image button\n",
    "full_image_elem = browser.find_by_tag('button')[1]\n",
    "full_image_elem.click()"
   ]
  },
  {
   "cell_type": "code",
   "execution_count": 30,
   "id": "62c73781",
   "metadata": {},
   "outputs": [],
   "source": [
    "html_1 = browser.html\n",
    "use_soup2 = soup(html_1, 'html.parser')"
   ]
  },
  {
   "cell_type": "code",
   "execution_count": 31,
   "id": "a0714ffb",
   "metadata": {},
   "outputs": [
    {
     "data": {
      "text/plain": [
       "'image/featured/mars1.jpg'"
      ]
     },
     "execution_count": 31,
     "metadata": {},
     "output_type": "execute_result"
    }
   ],
   "source": [
    " #find the relative image url\n",
    "img_url_rel = use_soup2.find('img', class_='fancybox-image').get('src')\n",
    "img_url_rel"
   ]
  },
  {
   "cell_type": "code",
   "execution_count": 32,
   "id": "d6cefd95",
   "metadata": {},
   "outputs": [
    {
     "name": "stdout",
     "output_type": "stream",
     "text": [
      "https://spaceimages-mars.com/image/featured/mars1.jpg\n"
     ]
    }
   ],
   "source": [
    "img_url = f'https://spaceimages-mars.com/{img_url_rel}'\n",
    "print(img_url)\n"
   ]
  },
  {
   "cell_type": "markdown",
   "id": "a2491318",
   "metadata": {},
   "source": [
    "### Mars Facts "
   ]
  },
  {
   "cell_type": "code",
   "execution_count": 20,
   "id": "9fbd2bcc",
   "metadata": {},
   "outputs": [
    {
     "data": {
      "text/html": [
       "<div>\n",
       "<style scoped>\n",
       "    .dataframe tbody tr th:only-of-type {\n",
       "        vertical-align: middle;\n",
       "    }\n",
       "\n",
       "    .dataframe tbody tr th {\n",
       "        vertical-align: top;\n",
       "    }\n",
       "\n",
       "    .dataframe thead th {\n",
       "        text-align: right;\n",
       "    }\n",
       "</style>\n",
       "<table border=\"1\" class=\"dataframe\">\n",
       "  <thead>\n",
       "    <tr style=\"text-align: right;\">\n",
       "      <th></th>\n",
       "      <th>0</th>\n",
       "      <th>1</th>\n",
       "      <th>2</th>\n",
       "    </tr>\n",
       "  </thead>\n",
       "  <tbody>\n",
       "    <tr>\n",
       "      <th>0</th>\n",
       "      <td>Mars - Earth Comparison</td>\n",
       "      <td>Mars</td>\n",
       "      <td>Earth</td>\n",
       "    </tr>\n",
       "    <tr>\n",
       "      <th>1</th>\n",
       "      <td>Diameter:</td>\n",
       "      <td>6,779 km</td>\n",
       "      <td>12,742 km</td>\n",
       "    </tr>\n",
       "    <tr>\n",
       "      <th>2</th>\n",
       "      <td>Mass:</td>\n",
       "      <td>6.39 × 10^23 kg</td>\n",
       "      <td>5.97 × 10^24 kg</td>\n",
       "    </tr>\n",
       "    <tr>\n",
       "      <th>3</th>\n",
       "      <td>Moons:</td>\n",
       "      <td>2</td>\n",
       "      <td>1</td>\n",
       "    </tr>\n",
       "    <tr>\n",
       "      <th>4</th>\n",
       "      <td>Distance from Sun:</td>\n",
       "      <td>227,943,824 km</td>\n",
       "      <td>149,598,262 km</td>\n",
       "    </tr>\n",
       "    <tr>\n",
       "      <th>5</th>\n",
       "      <td>Length of Year:</td>\n",
       "      <td>687 Earth days</td>\n",
       "      <td>365.24 days</td>\n",
       "    </tr>\n",
       "    <tr>\n",
       "      <th>6</th>\n",
       "      <td>Temperature:</td>\n",
       "      <td>-87 to -5 °C</td>\n",
       "      <td>-88 to 58°C</td>\n",
       "    </tr>\n",
       "  </tbody>\n",
       "</table>\n",
       "</div>"
      ],
      "text/plain": [
       "                         0                1                2\n",
       "0  Mars - Earth Comparison             Mars            Earth\n",
       "1                Diameter:         6,779 km        12,742 km\n",
       "2                    Mass:  6.39 × 10^23 kg  5.97 × 10^24 kg\n",
       "3                   Moons:                2                1\n",
       "4       Distance from Sun:   227,943,824 km   149,598,262 km\n",
       "5          Length of Year:   687 Earth days      365.24 days\n",
       "6             Temperature:     -87 to -5 °C      -88 to 58°C"
      ]
     },
     "execution_count": 20,
     "metadata": {},
     "output_type": "execute_result"
    }
   ],
   "source": [
    "mars_facts = pd.read_html(\"https://galaxyfacts-mars.com/\")[0]\n",
    "mars_facts"
   ]
  },
  {
   "cell_type": "code",
   "execution_count": 22,
   "id": "57cb9ae0",
   "metadata": {},
   "outputs": [
    {
     "data": {
      "text/html": [
       "<div>\n",
       "<style scoped>\n",
       "    .dataframe tbody tr th:only-of-type {\n",
       "        vertical-align: middle;\n",
       "    }\n",
       "\n",
       "    .dataframe tbody tr th {\n",
       "        vertical-align: top;\n",
       "    }\n",
       "\n",
       "    .dataframe thead th {\n",
       "        text-align: right;\n",
       "    }\n",
       "</style>\n",
       "<table border=\"1\" class=\"dataframe\">\n",
       "  <thead>\n",
       "    <tr style=\"text-align: right;\">\n",
       "      <th></th>\n",
       "      <th>Mars</th>\n",
       "      <th>Earth</th>\n",
       "    </tr>\n",
       "    <tr>\n",
       "      <th>Description</th>\n",
       "      <th></th>\n",
       "      <th></th>\n",
       "    </tr>\n",
       "  </thead>\n",
       "  <tbody>\n",
       "    <tr>\n",
       "      <th>Mars - Earth Comparison</th>\n",
       "      <td>Mars</td>\n",
       "      <td>Earth</td>\n",
       "    </tr>\n",
       "    <tr>\n",
       "      <th>Diameter:</th>\n",
       "      <td>6,779 km</td>\n",
       "      <td>12,742 km</td>\n",
       "    </tr>\n",
       "    <tr>\n",
       "      <th>Mass:</th>\n",
       "      <td>6.39 × 10^23 kg</td>\n",
       "      <td>5.97 × 10^24 kg</td>\n",
       "    </tr>\n",
       "    <tr>\n",
       "      <th>Moons:</th>\n",
       "      <td>2</td>\n",
       "      <td>1</td>\n",
       "    </tr>\n",
       "    <tr>\n",
       "      <th>Distance from Sun:</th>\n",
       "      <td>227,943,824 km</td>\n",
       "      <td>149,598,262 km</td>\n",
       "    </tr>\n",
       "    <tr>\n",
       "      <th>Length of Year:</th>\n",
       "      <td>687 Earth days</td>\n",
       "      <td>365.24 days</td>\n",
       "    </tr>\n",
       "    <tr>\n",
       "      <th>Temperature:</th>\n",
       "      <td>-87 to -5 °C</td>\n",
       "      <td>-88 to 58°C</td>\n",
       "    </tr>\n",
       "  </tbody>\n",
       "</table>\n",
       "</div>"
      ],
      "text/plain": [
       "                                    Mars            Earth\n",
       "Description                                              \n",
       "Mars - Earth Comparison             Mars            Earth\n",
       "Diameter:                       6,779 km        12,742 km\n",
       "Mass:                    6.39 × 10^23 kg  5.97 × 10^24 kg\n",
       "Moons:                                 2                1\n",
       "Distance from Sun:        227,943,824 km   149,598,262 km\n",
       "Length of Year:           687 Earth days      365.24 days\n",
       "Temperature:                -87 to -5 °C      -88 to 58°C"
      ]
     },
     "execution_count": 22,
     "metadata": {},
     "output_type": "execute_result"
    }
   ],
   "source": [
    "mars_facts.columns=['Description', 'Mars', 'Earth']\n",
    "mars_facts.set_index('Description', inplace=True)\n",
    "mars_facts"
   ]
  },
  {
   "cell_type": "markdown",
   "id": "cbbed418",
   "metadata": {},
   "source": [
    "### Mars Hemispheres"
   ]
  },
  {
   "cell_type": "code",
   "execution_count": 24,
   "id": "ca305dbc",
   "metadata": {},
   "outputs": [],
   "source": [
    "url = \"https://marshemispheres.com/\"\n",
    "browser.visit(url)"
   ]
  },
  {
   "cell_type": "code",
   "execution_count": 25,
   "id": "393d574f",
   "metadata": {},
   "outputs": [],
   "source": [
    "hemisphere_image_urls = []\n",
    "\n",
    "# Get a list of all of the hemispheres\n",
    "links = browser.find_by_css('a.product-item img')\n",
    "\n",
    "\n",
    "for i in range(len(links)):\n",
    "    hemisphere = {}\n",
    "    \n",
    "    # We have to find the elements on each loop to avoid a stale element exception\n",
    "    browser.find_by_css('a.product-item img')[i].click()\n",
    "    \n",
    "    # Next, we find the Sample image anchor tag and extract the href\n",
    "    sample_elem = browser.links.find_by_text('Sample').first\n",
    "    hemisphere['img_url'] = sample_elem['href']\n",
    "    \n",
    "    # Get Hemisphere title\n",
    "    hemisphere['title'] = browser.find_by_css('h2.title').text\n",
    "    \n",
    "    # Append hemisphere object to list\n",
    "    hemisphere_image_urls.append(hemisphere)\n",
    "    \n",
    "    # Finally, we navigate backwards\n",
    "    browser.back()"
   ]
  },
  {
   "cell_type": "code",
   "execution_count": 26,
   "id": "19fbe4d0",
   "metadata": {},
   "outputs": [
    {
     "data": {
      "text/plain": [
       "[{'img_url': 'https://marshemispheres.com/images/full.jpg',\n",
       "  'title': 'Cerberus Hemisphere Enhanced'},\n",
       " {'img_url': 'https://marshemispheres.com/images/schiaparelli_enhanced-full.jpg',\n",
       "  'title': 'Schiaparelli Hemisphere Enhanced'},\n",
       " {'img_url': 'https://marshemispheres.com/images/syrtis_major_enhanced-full.jpg',\n",
       "  'title': 'Syrtis Major Hemisphere Enhanced'},\n",
       " {'img_url': 'https://marshemispheres.com/images/valles_marineris_enhanced-full.jpg',\n",
       "  'title': 'Valles Marineris Hemisphere Enhanced'}]"
      ]
     },
     "execution_count": 26,
     "metadata": {},
     "output_type": "execute_result"
    }
   ],
   "source": [
    "hemisphere_image_urls"
   ]
  },
  {
   "cell_type": "code",
   "execution_count": null,
   "id": "d0c90896",
   "metadata": {},
   "outputs": [],
   "source": []
  }
 ],
 "metadata": {
  "kernelspec": {
   "display_name": "Python 3",
   "language": "python",
   "name": "python3"
  },
  "language_info": {
   "codemirror_mode": {
    "name": "ipython",
    "version": 3
   },
   "file_extension": ".py",
   "mimetype": "text/x-python",
   "name": "python",
   "nbconvert_exporter": "python",
   "pygments_lexer": "ipython3",
   "version": "3.8.8"
  }
 },
 "nbformat": 4,
 "nbformat_minor": 5
}
